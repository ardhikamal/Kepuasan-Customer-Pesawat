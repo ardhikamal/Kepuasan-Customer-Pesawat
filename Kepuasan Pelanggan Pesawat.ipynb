{
 "cells": [
  {
   "cell_type": "code",
   "execution_count": 1,
   "id": "2b2d5ca4",
   "metadata": {},
   "outputs": [],
   "source": [
    "import pandas as pd \n",
    "import seaborn as sns\n",
    "import matplotlib.pyplot as plt \n",
    "\n",
    "from sklearn.model_selection import train_test_split\n",
    "\n",
    "### classifier \n",
    "from catboost import CatBoostClassifier \n",
    "\n",
    "import warnings\n",
    "warnings.filterwarnings('ignore')"
   ]
  },
  {
   "cell_type": "code",
   "execution_count": 2,
   "id": "5470f8fa",
   "metadata": {},
   "outputs": [],
   "source": [
    "def side_by_side(*objs, **kwds):\n",
    "    from pandas.io.formats.printing import adjoin\n",
    "    space = kwds.get('space', 4)\n",
    "    reprs = [repr(obj).split('\\n') for obj in objs]\n",
    "    print (adjoin(space, *reprs))\n",
    "    print()\n",
    "    return"
   ]
  },
  {
   "cell_type": "markdown",
   "id": "d6f75369",
   "metadata": {},
   "source": [
    "# **<span style=\"color:\t#D400D7;\">1. Memproses dan memahami dataset</span>**"
   ]
  },
  {
   "cell_type": "code",
   "execution_count": 3,
   "id": "9b56ac2a",
   "metadata": {},
   "outputs": [],
   "source": [
    "airlineDF = pd.read_csv(\"C:/Work/Data Science/My portofolio/Airlines Customer Satisfaction/Invistico_Airline.csv\")"
   ]
  },
  {
   "cell_type": "code",
   "execution_count": 4,
   "id": "ee0afedb",
   "metadata": {},
   "outputs": [
    {
     "data": {
      "text/plain": [
       "(129880, 23)"
      ]
     },
     "execution_count": 4,
     "metadata": {},
     "output_type": "execute_result"
    }
   ],
   "source": [
    "airlineDF.shape"
   ]
  },
  {
   "cell_type": "code",
   "execution_count": 5,
   "id": "9fb96cca",
   "metadata": {},
   "outputs": [
    {
     "name": "stdout",
     "output_type": "stream",
     "text": [
      "satisfaction                           0    satisfaction                         129880\n",
      "Gender                                 0    Gender                               129880\n",
      "Customer Type                          0    Customer Type                        129880\n",
      "Age                                    0    Age                                  129880\n",
      "Type of Travel                         0    Type of Travel                       129880\n",
      "Class                                  0    Class                                129880\n",
      "Flight Distance                        0    Flight Distance                      129880\n",
      "Seat comfort                           0    Seat comfort                         129880\n",
      "Departure/Arrival time convenient      0    Departure/Arrival time convenient    129880\n",
      "Food and drink                         0    Food and drink                       129880\n",
      "Gate location                          0    Gate location                        129880\n",
      "Inflight wifi service                  0    Inflight wifi service                129880\n",
      "Inflight entertainment                 0    Inflight entertainment               129880\n",
      "Online support                         0    Online support                       129880\n",
      "Ease of Online booking                 0    Ease of Online booking               129880\n",
      "On-board service                       0    On-board service                     129880\n",
      "Leg room service                       0    Leg room service                     129880\n",
      "Baggage handling                       0    Baggage handling                     129880\n",
      "Checkin service                        0    Checkin service                      129880\n",
      "Cleanliness                            0    Cleanliness                          129880\n",
      "Online boarding                        0    Online boarding                      129880\n",
      "Departure Delay in Minutes             0    Departure Delay in Minutes           129880\n",
      "Arrival Delay in Minutes             393    Arrival Delay in Minutes             129487\n",
      "dtype: int64                                dtype: int64                               \n",
      "\n"
     ]
    }
   ],
   "source": [
    "side_by_side(airlineDF.isnull().sum(), airlineDF.count()) # Menghitung berapa Jumlah kolom dan yang mengandung nilai Null"
   ]
  },
  {
   "cell_type": "code",
   "execution_count": 6,
   "id": "dd8e5f9a",
   "metadata": {},
   "outputs": [
    {
     "data": {
      "text/plain": [
       "Class\n",
       "Business    62160\n",
       "Eco         58309\n",
       "Eco Plus     9411\n",
       "dtype: int64"
      ]
     },
     "execution_count": 6,
     "metadata": {},
     "output_type": "execute_result"
    }
   ],
   "source": [
    "airlineDF[['Class']].groupby(['Class']).size()"
   ]
  },
  {
   "cell_type": "markdown",
   "id": "57102928",
   "metadata": {},
   "source": [
    "# **<span style=\"color:\t#D400D7;\">2. Pengkodean Label</span>**"
   ]
  },
  {
   "cell_type": "code",
   "execution_count": 7,
   "id": "221a1b82",
   "metadata": {},
   "outputs": [],
   "source": [
    "## Kolom kepuasan - label encoding \n",
    "satisfaction_mapping = {\"satisfied\": 1, \"dissatisfied\": 0}\n",
    "airlineDF['satisfaction'] = airlineDF['satisfaction'].map(satisfaction_mapping) \n",
    "\n",
    "## Kolom Gender - label encoding  \n",
    "gender_mapping = {\"Female\": 1, \"Male\": 0}\n",
    "airlineDF['Gender'] = airlineDF['Gender'].map(gender_mapping) \n",
    "\n",
    "## Kolom tipe Customer - label encoding  \n",
    "customer_type_mapping = {\"Loyal Customer\": 1, \"disloyal Customer\": 0}\n",
    "airlineDF['Customer Type'] = airlineDF['Customer Type'].map(customer_type_mapping) \n",
    "\n",
    "## kolom tipe travel - label encoding  \n",
    "travel_type_mapping = {\"Business travel\": 2, \"Personal Travel\": 1}\n",
    "airlineDF['Type of Travel'] = airlineDF['Type of Travel'].map(travel_type_mapping)  \n",
    "\n",
    "## Kolom Class - label encoding  \n",
    "class_mapping = {\"Business\": 3, \"Eco Plus\": 2, \"Eco\": 1}\n",
    "airlineDF['Class'] = airlineDF['Class'].map(class_mapping)  "
   ]
  },
  {
   "cell_type": "markdown",
   "id": "d0c38fc8",
   "metadata": {},
   "source": [
    "# **<span style=\"color:\t#D400D7;\">3. Mengkategorikan Features</span>**"
   ]
  },
  {
   "cell_type": "code",
   "execution_count": 8,
   "id": "1f609cdb",
   "metadata": {},
   "outputs": [
    {
     "data": {
      "text/plain": [
       "satisfaction                            2\n",
       "Gender                                  2\n",
       "Customer Type                           2\n",
       "Age                                    75\n",
       "Type of Travel                          2\n",
       "Class                                   3\n",
       "Flight Distance                      5398\n",
       "Seat comfort                            6\n",
       "Departure/Arrival time convenient       6\n",
       "Food and drink                          6\n",
       "Gate location                           6\n",
       "Inflight wifi service                   6\n",
       "Inflight entertainment                  6\n",
       "Online support                          6\n",
       "Ease of Online booking                  6\n",
       "On-board service                        6\n",
       "Leg room service                        6\n",
       "Baggage handling                        5\n",
       "Checkin service                         6\n",
       "Cleanliness                             6\n",
       "Online boarding                         6\n",
       "Departure Delay in Minutes            466\n",
       "Arrival Delay in Minutes              472\n",
       "dtype: int64"
      ]
     },
     "execution_count": 8,
     "metadata": {},
     "output_type": "execute_result"
    }
   ],
   "source": [
    "airlineDF.nunique() ## Berapa banyak Nilai unik yang dimiliki oleh masing-masing features"
   ]
  },
  {
   "cell_type": "code",
   "execution_count": 9,
   "id": "ceb29507",
   "metadata": {},
   "outputs": [
    {
     "data": {
      "text/plain": [
       "Index(['satisfaction', 'Gender', 'Customer Type', 'Age', 'Type of Travel',\n",
       "       'Class', 'Flight Distance', 'Seat comfort',\n",
       "       'Departure/Arrival time convenient', 'Food and drink', 'Gate location',\n",
       "       'Inflight wifi service', 'Inflight entertainment', 'Online support',\n",
       "       'Ease of Online booking', 'On-board service', 'Leg room service',\n",
       "       'Baggage handling', 'Checkin service', 'Cleanliness', 'Online boarding',\n",
       "       'Departure Delay in Minutes', 'Arrival Delay in Minutes'],\n",
       "      dtype='object')"
      ]
     },
     "execution_count": 9,
     "metadata": {},
     "output_type": "execute_result"
    }
   ],
   "source": [
    "airlineDF.columns"
   ]
  },
  {
   "cell_type": "code",
   "execution_count": 10,
   "id": "71b4e5a9",
   "metadata": {},
   "outputs": [],
   "source": [
    "cat_features = ['Gender', 'Customer Type', 'Type of Travel', 'Class', 'Seat comfort',\n",
    "               'Departure/Arrival time convenient', 'Food and drink', 'Gate location',\n",
    "               'Inflight wifi service', 'Inflight entertainment', 'Online support',\n",
    "               'Ease of Online booking', 'On-board service', 'Leg room service',\n",
    "               'Baggage handling', 'Checkin service', 'Cleanliness', 'Online boarding']\n",
    "\n",
    "target = 'satisfaction'"
   ]
  },
  {
   "cell_type": "markdown",
   "id": "b4458338",
   "metadata": {},
   "source": [
    "# **<span style=\"color:\t#D400D7;\">4. Mengecek Keseimbangan Kelas</span>**"
   ]
  },
  {
   "cell_type": "code",
   "execution_count": 11,
   "id": "1c272c01",
   "metadata": {},
   "outputs": [
    {
     "name": "stdout",
     "output_type": "stream",
     "text": [
      "Counts of each class\n",
      "1    71087\n",
      "0    58793\n",
      "Name: satisfaction, dtype: int64\n"
     ]
    },
    {
     "data": {
      "text/plain": [
       "(129880, 23)"
      ]
     },
     "execution_count": 11,
     "metadata": {},
     "output_type": "execute_result"
    },
    {
     "data": {
      "image/png": "[encoded data removed]",
      "text/plain": [
       "<Figure size 432x288 with 1 Axes>"
      ]
     },
     "metadata": {
      "needs_background": "light"
     },
     "output_type": "display_data"
    }
   ],
   "source": [
    "print(\"Counts of each class\")\n",
    "print(airlineDF[target].value_counts())\n",
    "airlineDF[target].value_counts().plot(kind='bar')\n",
    "plt.ylabel('Count')\n",
    "plt.title('Class Counts (Checking for Imbalance)')\n",
    "airlineDF.shape"
   ]
  },
  {
   "cell_type": "markdown",
   "id": "37d3582e",
   "metadata": {},
   "source": [
    "# **<span style=\"color:\t#D400D7;\">5. Menghilangkan Missing Values</span>**"
   ]
  },
  {
   "cell_type": "code",
   "execution_count": 12,
   "id": "cedb7f0f",
   "metadata": {},
   "outputs": [
    {
     "name": "stdout",
     "output_type": "stream",
     "text": [
      "Percentage of missing: 0.303 %\n"
     ]
    }
   ],
   "source": [
    "print(\"Percentage of missing: {} %\".format(round(airlineDF['Arrival Delay in Minutes'].isnull().sum()/\n",
    "                                                 airlineDF.shape[0]*100, 3)))"
   ]
  },
  {
   "cell_type": "code",
   "execution_count": 13,
   "id": "3eec1017",
   "metadata": {},
   "outputs": [
    {
     "data": {
      "image/png": "[encoded data removed]",
      "text/plain": [
       "<Figure size 576x432 with 1 Axes>"
      ]
     },
     "metadata": {
      "needs_background": "light"
     },
     "output_type": "display_data"
    }
   ],
   "source": [
    "### Kita hanya memiliki missing values pada \"Arrival Delay in Minutes\" \n",
    "\n",
    "fig = plt.figure(figsize=(8,6))\n",
    "sns.distplot(airlineDF['Arrival Delay in Minutes']); \n",
    "plt.show()"
   ]
  },
  {
   "cell_type": "markdown",
   "id": "e9d03967",
   "metadata": {},
   "source": [
    "# **<span style=\"color:\t#D400D7;\">6. Split Dataset ke data latihan, validasi dan tes</span>**"
   ]
  },
  {
   "cell_type": "code",
   "execution_count": 14,
   "id": "f123522a",
   "metadata": {},
   "outputs": [],
   "source": [
    "X = airlineDF.drop([target], axis=1) \n",
    "y = airlineDF[target]\n",
    "\n",
    "SEED = 42 \n",
    "TEST_SIZE = 0.2\n",
    "\n",
    "X_train, X_test, y_train, y_test = train_test_split(X, y, test_size=TEST_SIZE, stratify=y, random_state=SEED) "
   ]
  },
  {
   "cell_type": "markdown",
   "id": "9af55160",
   "metadata": {},
   "source": [
    "#### Validasi"
   ]
  },
  {
   "cell_type": "code",
   "execution_count": 15,
   "id": "1258edfc",
   "metadata": {},
   "outputs": [],
   "source": [
    "SEED = 42 \n",
    "VAL_SIZE = 0.2 # % dari Data latihan\n",
    "\n",
    "X_train, X_val, y_train, y_val =  train_test_split(X_train, y_train, test_size=VAL_SIZE, stratify=y_train, random_state=SEED)  "
   ]
  },
  {
   "cell_type": "markdown",
   "id": "e19d6988",
   "metadata": {},
   "source": [
    "#### Model Dasar: catboost"
   ]
  },
  {
   "cell_type": "code",
   "execution_count": 16,
   "id": "0f63e9f9",
   "metadata": {},
   "outputs": [
    {
     "data": {
      "application/vnd.jupyter.widget-view+json": {
       "model_id": "",
       "version_major": 2,
       "version_minor": 0
      },
      "text/plain": [
       "MetricVisualizer(layout=Layout(align_self='stretch', height='500px'))"
      ]
     },
     "metadata": {},
     "output_type": "display_data"
    },
    {
     "data": {
      "text/plain": [
       "<catboost.core.CatBoostClassifier at 0x24e90c9f580>"
      ]
     },
     "execution_count": 16,
     "metadata": {},
     "output_type": "execute_result"
    }
   ],
   "source": [
    "# Kita dapat mengoptimisasi iterasi, learning rate dan Metrik evaluasi menjadi lebih tinggi\n",
    "model = CatBoostClassifier(\n",
    "    iterations=50,\n",
    "    random_seed=63,\n",
    "    learning_rate=0.1,\n",
    "    custom_loss=['Accuracy'],\n",
    "    eval_metric='Accuracy' \n",
    ")\n",
    "\n",
    "## Ketika kita mencocokkan model dengan parameter plot=True, Kita dapat melihat bagaimana model itu berlatih\n",
    "model.fit(\n",
    "    X_train, y_train,\n",
    "    cat_features=cat_features,\n",
    "    eval_set=(X_val, y_val),\n",
    "    logging_level='Silent',\n",
    "    plot=True\n",
    ") "
   ]
  },
  {
   "cell_type": "markdown",
   "id": "0e77557f",
   "metadata": {},
   "source": [
    "#### Evaluasi pada dataset tes "
   ]
  },
  {
   "cell_type": "code",
   "execution_count": 17,
   "id": "4fb0c9b5",
   "metadata": {},
   "outputs": [
    {
     "name": "stdout",
     "output_type": "stream",
     "text": [
      "Test score (accuracy):  0.934\n"
     ]
    }
   ],
   "source": [
    "score = model.score(X_test, y_test)\n",
    "\n",
    "print(\"Test score (accuracy): \", round(score, 3))"
   ]
  },
  {
   "cell_type": "markdown",
   "id": "e6e86ed5",
   "metadata": {},
   "source": [
    ">Dengan Hiperparameter Basic kita mampu mendapatkan hasil tinggi 93%, itu berarti dataset cukup simpel"
   ]
  },
  {
   "cell_type": "markdown",
   "id": "0acd16e8",
   "metadata": {},
   "source": [
    "#### Penjelasan menggunakan Shap \n",
    "\n",
    "> Dimana Features memiliki impact yang lebih besar pada akurasi"
   ]
  },
  {
   "cell_type": "code",
   "execution_count": 18,
   "id": "898dab83",
   "metadata": {},
   "outputs": [],
   "source": [
    "import shap"
   ]
  },
  {
   "cell_type": "code",
   "execution_count": 19,
   "id": "423a0857",
   "metadata": {},
   "outputs": [
    {
     "data": {
      "image/png": "[encoded data removed]",
      "text/plain": [
       "<Figure size 576x684 with 1 Axes>"
      ]
     },
     "metadata": {
      "needs_background": "light"
     },
     "output_type": "display_data"
    }
   ],
   "source": [
    "explainer = shap.TreeExplainer(model)  \n",
    "shap_values = explainer.shap_values(X_test)\n",
    "base_value = explainer.expected_value\n",
    "shap.summary_plot(shap_values, X_test, feature_names=X_test.columns, plot_type=\"bar\")"
   ]
  },
  {
   "cell_type": "code",
   "execution_count": 20,
   "id": "26a949ca",
   "metadata": {},
   "outputs": [
    {
     "data": {
      "text/plain": [
       "<AxesSubplot:xlabel='Inflight entertainment', ylabel='count'>"
      ]
     },
     "execution_count": 20,
     "metadata": {},
     "output_type": "execute_result"
    },
    {
     "data": {
      "image/png": "[encoded data removed]",
      "text/plain": [
       "<Figure size 576x360 with 1 Axes>"
      ]
     },
     "metadata": {
      "needs_background": "light"
     },
     "output_type": "display_data"
    }
   ],
   "source": [
    "plt.figure(figsize=(8, 5))\n",
    "\n",
    "x = 'Inflight entertainment'\n",
    "y = target\n",
    "\n",
    "sns.countplot(x, hue = y, data = airlineDF) "
   ]
  },
  {
   "cell_type": "markdown",
   "id": "cef270a6",
   "metadata": {},
   "source": [
    "> For \"Inflight entertainment\", passengers with Inflight entertainment score 4 and 5 are mostly satisfied. "
   ]
  },
  {
   "cell_type": "code",
   "execution_count": 21,
   "id": "7e5e210d",
   "metadata": {},
   "outputs": [
    {
     "data": {
      "text/plain": [
       "<AxesSubplot:xlabel='Seat comfort', ylabel='count'>"
      ]
     },
     "execution_count": 21,
     "metadata": {},
     "output_type": "execute_result"
    },
    {
     "data": {
      "image/png": "[encoded data removed]",
      "text/plain": [
       "<Figure size 576x360 with 1 Axes>"
      ]
     },
     "metadata": {
      "needs_background": "light"
     },
     "output_type": "display_data"
    }
   ],
   "source": [
    "plt.figure(figsize=(8, 5))\n",
    "\n",
    "x = 'Seat comfort'\n",
    "y = target\n",
    "\n",
    "sns.countplot(x, hue = y, data = airlineDF) "
   ]
  },
  {
   "cell_type": "code",
   "execution_count": 22,
   "id": "2262bea8",
   "metadata": {},
   "outputs": [
    {
     "data": {
      "text/plain": [
       "<AxesSubplot:xlabel='Type of Travel', ylabel='count'>"
      ]
     },
     "execution_count": 22,
     "metadata": {},
     "output_type": "execute_result"
    },
    {
     "data": {
      "image/png": "[encoded data removed]",
      "text/plain": [
       "<Figure size 432x216 with 1 Axes>"
      ]
     },
     "metadata": {
      "needs_background": "light"
     },
     "output_type": "display_data"
    }
   ],
   "source": [
    "plt.figure(figsize=(6, 3))\n",
    "\n",
    "x = 'Type of Travel'\n",
    "y = target\n",
    "\n",
    "sns.countplot(x, hue = y, data = airlineDF)  "
   ]
  },
  {
   "cell_type": "code",
   "execution_count": 23,
   "id": "6e85cc54",
   "metadata": {},
   "outputs": [
    {
     "data": {
      "text/plain": [
       "<AxesSubplot:xlabel='Gender', ylabel='count'>"
      ]
     },
     "execution_count": 23,
     "metadata": {},
     "output_type": "execute_result"
    },
    {
     "data": {
      "image/png": "[encoded data removed]",
      "text/plain": [
       "<Figure size 432x216 with 1 Axes>"
      ]
     },
     "metadata": {
      "needs_background": "light"
     },
     "output_type": "display_data"
    }
   ],
   "source": [
    "plt.figure(figsize=(6, 3))\n",
    "\n",
    "x = 'Gender'\n",
    "y = target\n",
    "\n",
    "sns.countplot(x, hue = y, data = airlineDF)  "
   ]
  },
  {
   "cell_type": "markdown",
   "id": "e05a688e",
   "metadata": {},
   "source": [
    "> Dibandingkan dengan laki-laki, Penumpang perempuan memiliki kepuasan yang lebih tinggi"
   ]
  },
  {
   "cell_type": "markdown",
   "id": "384fe98d",
   "metadata": {},
   "source": [
    "# **<span style=\"color:\t#D400D7;\">Terima kasih sudah mampir ke Github Saya, Semoga membantu :)</span>**"
   ]
  },
  {
   "cell_type": "code",
   "execution_count": null,
   "id": "b4432af1",
   "metadata": {},
   "outputs": [],
   "source": []
  }
 ],
 "metadata": {
  "kernelspec": {
   "display_name": "Python 3 (ipykernel)",
   "language": "python",
   "name": "python3"
  },
  "language_info": {
   "codemirror_mode": {
    "name": "ipython",
    "version": 3
   },
   "file_extension": ".py",
   "mimetype": "text/x-python",
   "name": "python",
   "nbconvert_exporter": "python",
   "pygments_lexer": "ipython3",
   "version": "3.8.10"
  }
 },
 "nbformat": 4,
 "nbformat_minor": 5
}
